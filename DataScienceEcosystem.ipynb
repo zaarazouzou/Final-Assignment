{
 "cells": [
  {
   "cell_type": "markdown",
   "id": "454a298e-932e-490d-8c51-2988d4c386c1",
   "metadata": {},
   "source": [
    "# Data Science Tools and Ecosystem"
   ]
  },
  {
   "cell_type": "markdown",
   "id": "24caa825-ce57-4b52-aa51-736fd9130e94",
   "metadata": {},
   "source": [
    "In this notebook, Data Science Tools and Ecosystem are summarized."
   ]
  },
  {
   "cell_type": "markdown",
   "id": "413f4729-bdd1-40ab-acaa-2bbf55ddbaa9",
   "metadata": {},
   "source": [
    "**Objectives:**"
   ]
  },
  {
   "cell_type": "markdown",
   "id": "abd1b0b0-50dd-48e7-86ad-42e55fd3623e",
   "metadata": {},
   "source": [
    "-List popular languages for Data Science"
   ]
  },
  {
   "cell_type": "markdown",
   "id": "0a29dccc-0515-4db8-a8fd-2b16430b0989",
   "metadata": {},
   "source": [
    "-Some of the commonly used libraries used by Data Scientists"
   ]
  },
  {
   "cell_type": "markdown",
   "id": "02e7a9c8-38a0-4ddb-ac00-15c6e0a3a8cc",
   "metadata": {},
   "source": [
    "-Data Science Tools"
   ]
  },
  {
   "cell_type": "markdown",
   "id": "dc270945-f1e5-4cc8-9153-302f4a78d4bd",
   "metadata": {},
   "source": [
    "Some of the popular languages that Data Scientists use are:"
   ]
  },
  {
   "cell_type": "markdown",
   "id": "45ff4715-563e-4eb1-9bfe-dd9f14f03a1e",
   "metadata": {},
   "source": [
    "1.Python"
   ]
  },
  {
   "cell_type": "markdown",
   "id": "ad4edb27-56c4-45d8-894f-cdbedd782d2a",
   "metadata": {},
   "source": [
    "2.R"
   ]
  },
  {
   "cell_type": "markdown",
   "id": "9d2a2475-500b-4bfb-8fa2-1cee94addbc0",
   "metadata": {},
   "source": [
    "3.SQL"
   ]
  },
  {
   "cell_type": "markdown",
   "id": "2c156457-9c60-446e-8b0e-72c5d54ece81",
   "metadata": {},
   "source": [
    "Some of the commonly used libraries used by Data Scientists include:"
   ]
  },
  {
   "cell_type": "markdown",
   "id": "32ffc9b7-f0dc-4c03-ad12-16e21ce07fcd",
   "metadata": {},
   "source": [
    "TensorFlow"
   ]
  },
  {
   "cell_type": "markdown",
   "id": "c0080c30-87a5-4fe1-85d0-04b0f9cda15b",
   "metadata": {},
   "source": [
    "Scikit-learn"
   ]
  },
  {
   "cell_type": "markdown",
   "id": "2e209d2c-7960-49d4-81f8-f421b7a82f2a",
   "metadata": {},
   "source": [
    "Keras"
   ]
  },
  {
   "cell_type": "markdown",
   "id": "fdf776dc-3c6f-4f89-88dd-9604edd10d42",
   "metadata": {},
   "source": [
    "|Data Science Tools|"
   ]
  },
  {
   "cell_type": "markdown",
   "id": "c01931a2-ee0c-4d69-aafd-b9107192a219",
   "metadata": {},
   "source": [
    "|Jupyter Notebook|"
   ]
  },
  {
   "cell_type": "markdown",
   "id": "a694266f-d492-45b1-9dea-14ea7eca091a",
   "metadata": {},
   "source": [
    "|RStudio|"
   ]
  },
  {
   "cell_type": "markdown",
   "id": "e0535185-eecd-4886-94e4-524662d49f16",
   "metadata": {},
   "source": [
    "| VS Code|"
   ]
  },
  {
   "cell_type": "markdown",
   "id": "12123978-ed4f-4374-9346-218b499d6735",
   "metadata": {},
   "source": [
    "### Below are a few examples of evaluating arithmetic expressions in Python"
   ]
  },
  {
   "cell_type": "markdown",
   "id": "1b1fcea3-fa03-413d-b7f8-9475bd3a77cb",
   "metadata": {},
   "source": [
    "This a simple arithmetic expression to mutiply then add integers"
   ]
  },
  {
   "cell_type": "code",
   "execution_count": 1,
   "id": "ea05ca33-9954-45b3-a7cc-649130c1a9b1",
   "metadata": {},
   "outputs": [
    {
     "data": {
      "text/plain": [
       "17"
      ]
     },
     "execution_count": 1,
     "metadata": {},
     "output_type": "execute_result"
    }
   ],
   "source": [
    "(3*4)+5"
   ]
  },
  {
   "cell_type": "markdown",
   "id": "429c947a-0150-483c-9960-708f9783c2ec",
   "metadata": {},
   "source": [
    "This will convert 200 minutes to hours by diving by 60"
   ]
  },
  {
   "cell_type": "code",
   "execution_count": 2,
   "id": "9af9a187-13e6-4443-bd26-af8165b40ab9",
   "metadata": {},
   "outputs": [
    {
     "data": {
      "text/plain": [
       "3.3333333333333335"
      ]
     },
     "execution_count": 2,
     "metadata": {},
     "output_type": "execute_result"
    }
   ],
   "source": [
    "200 / 60"
   ]
  },
  {
   "cell_type": "markdown",
   "id": "68f523c0-fe78-4730-987d-53ab7114c12a",
   "metadata": {},
   "source": [
    "## Author"
   ]
  },
  {
   "cell_type": "markdown",
   "id": "f906a777-ff2f-450d-8aa0-67909c0f40a6",
   "metadata": {},
   "source": [
    "Zahra Belamri"
   ]
  }
 ],
 "metadata": {
  "kernelspec": {
   "display_name": "Python 3 (ipykernel)",
   "language": "python",
   "name": "python3"
  },
  "language_info": {
   "codemirror_mode": {
    "name": "ipython",
    "version": 3
   },
   "file_extension": ".py",
   "mimetype": "text/x-python",
   "name": "python",
   "nbconvert_exporter": "python",
   "pygments_lexer": "ipython3",
   "version": "3.11.9"
  }
 },
 "nbformat": 4,
 "nbformat_minor": 5
}
